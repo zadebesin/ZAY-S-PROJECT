{
 "cells": [
  {
   "cell_type": "code",
   "execution_count": 3,
   "metadata": {},
   "outputs": [
    {
     "name": "stderr",
     "output_type": "stream",
     "text": [
      "C:\\Users\\user\\anaconda3\\lib\\site-packages\\IPython\\core\\interactiveshell.py:3146: DtypeWarning: Columns (2,3,4,5) have mixed types.Specify dtype option on import or set low_memory=False.\n",
      "  has_raised = await self.run_ast_nodes(code_ast.body, cell_name,\n"
     ]
    },
    {
     "name": "stdout",
     "output_type": "stream",
     "text": [
      "Data imported successfully!\n",
      "        EmployeeName                                        JobTitle BasePay  \\\n",
      "0     NATHANIEL FORD  GENERAL MANAGER-METROPOLITAN TRANSIT AUTHORITY  167411   \n",
      "1       GARY JIMENEZ                 CAPTAIN III (POLICE DEPARTMENT)  155966   \n",
      "2     ALBERT PARDINI                 CAPTAIN III (POLICE DEPARTMENT)  212739   \n",
      "3  CHRISTOPHER CHONG            WIRE ROPE CABLE MAINTENANCE MECHANIC   77916   \n",
      "4    PATRICK GARDNER    DEPUTY CHIEF OF DEPARTMENT,(FIRE DEPARTMENT)  134402   \n",
      "\n",
      "  OvertimePay OtherPay      Benefits   TotalPay  TotalPayBenefits  Year  \n",
      "0           0   400184  Not Provided  567595.43         567595.43  2011  \n",
      "1      245132   137811  Not Provided  538909.28         538909.28  2011  \n",
      "2      106088  16452.6  Not Provided  335279.91         335279.91  2011  \n",
      "3     56120.7   198307  Not Provided  332343.61         332343.61  2011  \n",
      "4        9737   182235  Not Provided  326373.19         326373.19  2011  \n"
     ]
    }
   ],
   "source": [
    "import pandas as pd\n",
    "\n",
    "#Import Data\n",
    "try:\n",
    "    df = pd.read_csv('salary_data.csv')\n",
    "    print(\"Data imported successfully!\")\n",
    "    print(df.head())  # Display the first few rows of the dataframe\n",
    "\n",
    "except FileNotFoundError:\n",
    "    print(\"Error: The file 'salary_data.csv' was not found.\")\n",
    "except Exception as e:\n",
    "    print(f\"An error occurred: {e}\")\n"
   ]
  },
  {
   "cell_type": "code",
   "execution_count": 4,
   "metadata": {},
   "outputs": [
    {
     "name": "stdout",
     "output_type": "stream",
     "text": [
      "         EmployeeName   JobTitle BasePay OvertimePay OtherPay  Benefits  \\\n",
      "36519  Albert Pardini  Captain 3  196265           0    11404  46326.21   \n",
      "\n",
      "        TotalPay  TotalPayBenefits  Year  \n",
      "36519  207669.08         253995.29  2012  \n"
     ]
    }
   ],
   "source": [
    "def get_employee_details(name):\n",
    "    # Task 2: Create Employee Function\n",
    "    try:\n",
    "        # Search for employee by name\n",
    "        employee = df[df['EmployeeName'] == name]\n",
    "        \n",
    "        if employee.empty:\n",
    "            return f\"Employee '{name}' not found.\"\n",
    "        else:\n",
    "            return employee\n",
    "    except Exception as e:\n",
    "        return f\"An error occurred while retrieving details: {e}\"\n",
    "\n",
    "print(get_employee_details('Albert Pardini'))\n"
   ]
  },
  {
   "cell_type": "code",
   "execution_count": null,
   "metadata": {},
   "outputs": [],
   "source": [
    "# Task 3: Data Processing with Dictionary\n",
    "employee_dict = {}\n",
    "\n",
    "for index, row in df.iterrows():\n",
    "    employee_dict[row['EmployeeName']] = {\n",
    "        'JobTitle': row['JobTitle'],\n",
    "        'BasePay': row['BasePay'],\n",
    "        'OvertimePay': row['OvertimePay'],\n",
    "        'OtherPay': row['OtherPay'],\n",
    "        'TotalPay': row['TotalPay']\n",
    "    }\n",
    "\n",
    "print(employee_dict)\n"
   ]
  },
  {
   "cell_type": "code",
   "execution_count": 5,
   "metadata": {},
   "outputs": [
    {
     "name": "stdout",
     "output_type": "stream",
     "text": [
      "Employee details for Albert Pardini have been exported and zipped.\n"
     ]
    }
   ],
   "source": [
    "import zipfile\n",
    "import os\n",
    "\n",
    "# Export Employee Details to CSV and Zip\n",
    "def export_to_csv_and_zip(name):\n",
    "    try:\n",
    "        # Get employee details using the function from Task 2\n",
    "        employee_details = get_employee_details(name)\n",
    "        \n",
    "        if isinstance(employee_details, str):  # If it's an error message\n",
    "            print(employee_details)\n",
    "            return\n",
    "        \n",
    "        # Export employee details to a CSV file\n",
    "        output_folder = 'Employee_Profile'\n",
    "        os.makedirs(output_folder, exist_ok=True)  # Create the folder if it doesn't exist\n",
    "        output_file = os.path.join(output_folder, f\"{name}_details.csv\")\n",
    "        employee_details.to_csv(output_file, index=False)\n",
    "        \n",
    "        # Zip the CSV file\n",
    "        zip_file = 'Employee_Profile.zip'\n",
    "        with zipfile.ZipFile(zip_file, 'w') as zipf:\n",
    "            zipf.write(output_file, os.path.basename(output_file))\n",
    "        \n",
    "        print(f\"Employee details for {name} have been exported and zipped.\")\n",
    "    \n",
    "    except Exception as e:\n",
    "        print(f\"An error occurred: {e}\")\n",
    "\n",
    "# Example usage\n",
    "export_to_csv_and_zip('Albert Pardini')\n"
   ]
  },
  {
   "cell_type": "code",
   "execution_count": null,
   "metadata": {},
   "outputs": [],
   "source": []
  }
 ],
 "metadata": {
  "kernelspec": {
   "display_name": "Python 3",
   "language": "python",
   "name": "python3"
  },
  "language_info": {
   "codemirror_mode": {
    "name": "ipython",
    "version": 3
   },
   "file_extension": ".py",
   "mimetype": "text/x-python",
   "name": "python",
   "nbconvert_exporter": "python",
   "pygments_lexer": "ipython3",
   "version": "3.8.5"
  }
 },
 "nbformat": 4,
 "nbformat_minor": 4
}
